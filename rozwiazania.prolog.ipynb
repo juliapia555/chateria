{
  "nbformat": 4,
  "nbformat_minor": 0,
  "metadata": {
    "colab": {
      "provenance": []
    },
    "kernelspec": {
      "name": "python3",
      "display_name": "Python 3"
    },
    "language_info": {
      "name": "python"
    }
  },
  "cells": [
    {
      "cell_type": "markdown",
      "source": [],
      "metadata": {
        "id": "cD8mqd72PzzH"
      }
    },
    {
      "cell_type": "code",
      "source": [],
      "metadata": {
        "id": "zF3s-qMOs3wf"
      },
      "execution_count": null,
      "outputs": []
    },
    {
      "cell_type": "markdown",
      "source": [
        "\n",
        "Zadanie 1: Drzewo genealogiczne\n",
        "\n",
        "```\n",
        "\n",
        "% Fakty dotyczące rodziców i dzieci\n",
        "ojciec(andrzej, milena).\n",
        "ojciec(andrzej, julek).\n",
        "ojciec(pawel, filip).\n",
        "ojciec(karol, andrzej).\n",
        "ojciec(karol, pawel).\n",
        "\n",
        "matka(malgorzata, julek).\n",
        "matka(malgorzata, milena).\n",
        "matka(katarzyna, filip).\n",
        "matka(halina, andrzej).\n",
        "matka(halina, pawel).\n",
        "\n",
        "% Fakty dotyczące małżeństw\n",
        "malzenstwo(andrzej, malgorzata).\n",
        "malzenstwo(pawel, katarzyna).\n",
        "malzenstwo(karol, halina).\n",
        "\n",
        "% Fakty dotyczące płci\n",
        "mezczyzna(andrzej).\n",
        "mezczyzna(julek).\n",
        "mezczyzna(pawel).\n",
        "mezczyzna(filip).\n",
        "mezczyzna(karol).\n",
        "kobieta(malgorzata).\n",
        "kobieta(milena).\n",
        "kobieta(katarzyna).\n",
        "kobieta(halina).\n",
        "\n",
        "\n",
        "% Reguła: rodzic(X, Y) - X jest rodzicem Y\n",
        "rodzic(X, Y) :- ojciec(X, Y).\n",
        "rodzic(X, Y) :- matka(X, Y).\n",
        "\n",
        "% Reguła: przodek(X, Y) - X jest przodkiem Y\n",
        "przodek(X, Y) :-\n",
        "    rodzic(X, Y).\n",
        "przodek(X, Y) :-\n",
        "    rodzic(X, Z),\n",
        "    przodek(Z, Y).\n",
        "\n",
        "% Reguła: brat(X, Y) - X jest bratem Y\n",
        "brat(X, Y) :-\n",
        "    mezczyzna(X),\n",
        "    rodzic(Z, X),\n",
        "    rodzic(Z, Y),\n",
        "    X \\= Y.\n",
        "brat(andrzej, pawel).\n",
        "\n",
        "% Reguła: siostra(X, Y) - X jest siostrą Y\n",
        "siostra(X, Y) :-\n",
        "    kobieta(X),\n",
        "    rodzic(Z, X),\n",
        "    rodzic(Z, Y),\n",
        "    X \\= Y.\n",
        "\n",
        "% Reguła: kuzyn(X, Y) - X jest kuzynem Y\n",
        "kuzyn(X, Y) :-\n",
        "    rodzic(A, X),\n",
        "    rodzic(B, Y),\n",
        "    brat(A, B),\n",
        "    X \\= Y.\n",
        "kuzyn(X, Y) :-\n",
        "    rodzic(A, X),\n",
        "    rodzic(B, Y),\n",
        "    siostra(A, B),\n",
        "    X \\= Y.\n",
        "\n",
        "\n",
        "```"
      ],
      "metadata": {
        "id": "bUzW7d5XvLpp"
      }
    },
    {
      "cell_type": "markdown",
      "source": [
        "\n",
        "\n",
        "Zadanie 1: Drzewo genealogiczne\n",
        "\n",
        "Pytania i wyniki\n",
        "\n",
        "```\n",
        "\n",
        "?- przodek(andrzej, milena). % Oczekiwane: true\n",
        "\n",
        "?- brat(julek, milena). % Oczekiwane: true\n",
        "\n",
        "?- kuzyn(X, julek). % Oczekiwane: X = filip\n",
        "\n",
        "```"
      ],
      "metadata": {
        "id": "HM3KIoyfqKiV"
      }
    },
    {
      "cell_type": "markdown",
      "source": [
        "Zadanie 2: System rezerwacji lotów\n",
        "\n",
        "```\n",
        "\n",
        "% Lotniska\n",
        "lotnisko(warszawa).\n",
        "lotnisko(krakow).\n",
        "lotnisko(gdansk).\n",
        "\n",
        "% Połączenia lotnicze: polacz(Start, Cel, Cena)\n",
        "polacz(warszawa, krakow, 300).\n",
        "polacz(krakow, gdansk, 200).\n",
        "polacz(warszawa, gdansk, 500).\n",
        "\n",
        "% Sprawdzenie, czy istnieje jakiekolwiek połączenie\n",
        "czy_jest_polaczenie(A, B) :-\n",
        "    polacz(A, B, _). % Bezpośrednie połączenie\n",
        "\n",
        "% Obliczanie kosztu połączenia między dwoma lotniskami\n",
        "koszt_lotu(A, B, Cena) :-\n",
        "    polacz(A, B, Cena). % Jeśli połączenie jest bezpośrednie\n",
        "\n",
        "% Szukanie trasy między lotniskami (bezpośredniej lub przez inne)\n",
        "trasa(A, B, Odwiedzone, [A, B], Cena) :-\n",
        "    polacz(A, B, Cena),\n",
        "    \\+ member(B, Odwiedzone). % Sprawdzamy, czy nie wracamy na lotnisko\n",
        "\n",
        "trasa(A, B, Odwiedzone, [A | Droga], Cena) :-\n",
        "    polacz(A, C, Cena1),\n",
        "    \\+ member(C, Odwiedzone), % Sprawdzamy, czy lotnisko już nie było odwiedzone\n",
        "    trasa(C, B, [C | Odwiedzone], Droga, Cena2),\n",
        "    Cena is Cena1 + Cena2.\n",
        "\n",
        "% Znalezienie najtańszej trasy\n",
        "najlepsza_trasa(A, B, Trasa, CenaMin) :-\n",
        "    findall((Cena, Droga), trasa(A, B, [A], Droga, Cena), WszystkieTrasy),\n",
        "    sort(WszystkieTrasy, Posortowane),\n",
        "    Posortowane = [(CenaMin, Trasa) | _]. % Najtańsza trasa jest pierwsza w posortowanej liście\n",
        "\n",
        "\n",
        "```"
      ],
      "metadata": {
        "id": "rDTmBxGTXF8x"
      }
    },
    {
      "cell_type": "markdown",
      "source": [
        "Zadanie 2: System rezerwacji lotów\n",
        "\n",
        "Pytania i wyniki\n",
        "\n",
        "```\n",
        "?- czy_jest_polaczenie(warszawa, krakow).\n",
        "\n",
        "Wynik: true\n",
        "\n",
        "\n",
        "?- koszt_lotu(warszawa, gdansk, Cena).\n",
        "\n",
        "Wynik: Cena = 500\n",
        "\n",
        "\n",
        "?- trasa(warszawa, gdansk, [warszawa], Droga, Cena).\n",
        "\n",
        "Wynik:\n",
        "\n",
        "Cena = 500,\n",
        "Droga = [warszawa, gdansk]\n",
        "\n",
        "po kliknięciu [next]\n",
        "\n",
        "Cena = 500,\n",
        "Droga = [warszawa, krakow, gdansk]\n",
        "\n",
        "?- najlepsza_trasa(warszawa, gdansk, Droga, Cena).\n",
        "\n",
        "Wynik: Cena = 500,\n",
        "Droga = [warszawa, gdansk]\n",
        "\n",
        "```\n",
        "\n",
        "\n"
      ],
      "metadata": {
        "id": "esLZiNfBXx_t"
      }
    },
    {
      "cell_type": "markdown",
      "source": [
        "    \n",
        "Zadanie 3: System zarządzania magazynem\n",
        "```\n",
        "    % Fakty - przykładowa baza danych jako lista\n",
        "magazyn([\n",
        "    produkt(tv, 10, sektor_a),\n",
        "    produkt(pralka, 5, sektor_b),\n",
        "    produkt(lodowka, 3, sektor_c)\n",
        "]).\n",
        "\n",
        "%Reguła - dostępność produktu\n",
        "dostepny_produkt(X) :-\n",
        "    magazyn(Magazyn),\n",
        "    member(produkt(X, Ilosc, _), Magazyn),\n",
        "    Ilosc > 0,!.\n",
        "\n",
        "%Reguła - przeniesienie do innego sektora\n",
        "przenies_produkt(Nazwa, NowySektor, Magazyn, NowyMagazyn) :-\n",
        "    select(produkt(Nazwa, Ilosc, _), Magazyn, MagazynBezProduktu),\n",
        "    NewProdukt = produkt(Nazwa, Ilosc, NowySektor),\n",
        "    append(MagazynBezProduktu, [NewProdukt], NowyMagazyn).\n",
        "\n",
        "%Reguła - uzupełnienie stanu produktu\n",
        "uzupelnij_stan(Nazwa, DodanaIlosc, Magazyn, NowyMagazyn) :-\n",
        "    select(produkt(Nazwa, Ilosc, Sektor), Magazyn, MagazynBezProduktu),\n",
        "    NowaIlosc is Ilosc + DodanaIlosc,\n",
        "    NewProdukt = produkt(Nazwa, NowaIlosc, Sektor),\n",
        "    append(MagazynBezProduktu, [NewProdukt], NowyMagazyn).\n",
        "\n",
        "```\n"
      ],
      "metadata": {
        "id": "dOf7A76Rb0d0"
      }
    },
    {
      "cell_type": "code",
      "source": [],
      "metadata": {
        "id": "PvQ0r1YyPzMY"
      },
      "execution_count": null,
      "outputs": []
    },
    {
      "cell_type": "markdown",
      "source": [
        "Zadanie 3: System zarządzania magazynem\n",
        "\n",
        "\n",
        "Pytania i wyniki:\n",
        "\n",
        "```\n",
        "\n",
        "\n",
        "1. Sprawdzone działanie produktu:\n",
        "?- dostepny_produkt(tv).\n",
        "\n",
        "Wynik: true.\n",
        "\n",
        "2. Przeniesienie produktu do innego sektora:\n",
        "\n",
        "?- magazyn(Magazyn), przenies_produkt(tv, sektor_b, Magazyn, NowyMagazyn).\n",
        "\n",
        "Wynik:\n",
        "\n",
        "Magazyn = [produkt(tv,10,sektor_a), produkt(pralka,5,sektor_b), produkt(lodowka,3,sektor_c)],\n",
        "\n",
        "NowyMagazyn = [produkt(pralka,5,sektor_b), produkt(lodowka,3,sektor_c), produkt(tv,10,sektor_b)]\n",
        "\n",
        "\n",
        "3. Uzupełnienie stanu produktu:\n",
        "\n",
        "?- magazyn(Magazyn), uzupelnij_stan(pralka, 3, Magazyn, NowyMagazyn).\n",
        "\n",
        "Wynik:\n",
        "\n",
        "Magazyn = [produkt(tv,10,sektor_a), produkt(pralka,5,sektor_b), produkt(lodowka,3,sektor_c)],\n",
        "\n",
        "NowyMagazyn = [produkt(tv,10,sektor_a), produkt(lodowka,3,sektor_c), produkt(pralka,8,sektor_b)]\n",
        "\n",
        "```\n",
        "\n",
        "\n",
        "\n"
      ],
      "metadata": {
        "id": "F8xNCi15j1fP"
      }
    },
    {
      "cell_type": "markdown",
      "source": [
        "Zadanie 4: System planowania trasy kuriera\n",
        "\n",
        "```\n",
        "\n",
        "% Fakty o miastach\n",
        "miasto(warszawa).\n",
        "miasto(krakow).\n",
        "miasto(poznan).\n",
        "\n",
        "% Fakty o połączeniach drogowych (droga(Miasto1, Miasto2, CzasPrzejazdu))\n",
        "droga(warszawa, krakow, 4).\n",
        "droga(krakow, poznan, 3).\n",
        "droga(warszawa, poznan, 7).\n",
        "\n",
        "% Reguła sprawdzająca, czy istnieje bezpośrednie połączenie drogowe między miastami\n",
        "droga(X, Y) :- droga(X, Y, _). % Jeśli droga jest w bazie faktów\n",
        "droga(X, Y) :- droga(Y, X, _). % Połączenia są dwukierunkowe\n",
        "\n",
        "% Reguła dla bezpośredniego czasu przejazdu\n",
        "czas_przejazdu(X, Y, T) :- droga(X, Y, T). % Sprawdza bezpośrednie połączenie\n",
        "czas_przejazdu(X, Y, T) :- droga(Y, X, T). % Dwukierunkowość połączenia\n",
        "\n",
        "% Reguła rekurencyjna dla czasu przejazdu przez połączenia pośrednie\n",
        "czas_przejazdu(X, Y, T) :-\n",
        "    droga(X, Z, T1), % Znajdź drogę z X do Z\n",
        "    czas_przejazdu(Z, Y, T2), % Znajdź czas z Z do Y\n",
        "    T is T1 + T2. % Suma czasu przejazdu\n",
        "\n",
        "% Reguła wyznaczająca najkrótszą trasę z miast X do Y\n",
        "najkrotsza_trasa(X, Y, Trasa, Czas) :-\n",
        "    setof((C, T), trasa(X, Y, T, C), Wyniki), % Znajdź wszystkie trasy z czasem\n",
        "    Wyniki = [(Czas, Trasa) | _]. % Wybierz trasę o najkrótszym czasie\n",
        "\n",
        "% Znajdź trasę z czasem przejazdu\n",
        "trasa(X, Y, [X, Y], Czas) :-\n",
        "    droga(X, Y, Czas). % Jeśli istnieje bezpośrednia droga\n",
        "\n",
        "trasa(X, Y, [X | Trasa], Czas) :-\n",
        "    droga(X, Z, Czas1), % Znajdź drogę z X do Z\n",
        "    Z \\= Y, % Upewnij się, że Z nie jest już celem\n",
        "    trasa(Z, Y, Trasa, Czas2), % Znajdź trasę z Z do Y\n",
        "    \\+ member(X, Trasa), % Zapobiegaj cyklom\n",
        "    Czas is Czas1 + Czas2. % Dodaj czas przejazdu\n",
        "\n",
        "```"
      ],
      "metadata": {
        "id": "ASDrhX_4NhtC"
      }
    },
    {
      "cell_type": "markdown",
      "source": [
        "\n",
        "Zadanie 4: System planowania trasy kuriera\n",
        "\n",
        "Pytania i wyniki:\n",
        "\n",
        "```\n",
        "\n",
        "\n",
        "?- droga(warszawa, krakow).\n",
        "\n",
        "Wynik: true\n",
        "\n",
        "?- czas_przejazdu(warszawa, poznan, T).\n",
        "\n",
        "Wynik: T = 7\n",
        "\n",
        "?- najkrotsza_trasa(warszawa, poznan, Trasa, Czas).\n",
        "\n",
        "Wynik:\n",
        "\n",
        "Czas = 7,\n",
        "Trasa = [warszawa, krakow, poznan]\n",
        "\n",
        "```\n"
      ],
      "metadata": {
        "id": "_yTwTU7NOjiA"
      }
    },
    {
      "cell_type": "markdown",
      "source": [
        "\n",
        "Zadanie 5: System rekomendacji książek\n",
        "\n",
        "```\n",
        "\n",
        "% Fakty dotyczące książek\n",
        "literatura('W pustyni i w puszczy', sienkiewicz, przygodowa).\n",
        "literatura('Hobbit', tolkien, fantastyka).\n",
        "literatura('Pan Tadeusz', mickiewicz, poezja).\n",
        "literatura('Romeo i Julia', shakespeare, dramat).\n",
        "literatura('Dziady', mickiewicz, dramat).\n",
        "\n",
        "\n",
        "% Fakty dotyczące ocen\n",
        "recenzja(czytelnik1, 'W pustyni i w puszczy', 5).\n",
        "recenzja(czytelnik1, 'Hobbit', 4).\n",
        "recenzja(czytelnik1, 'Pan Tadeusz', 3).\n",
        "recenzja(czytelnik2, 'Romeo i Julia', 5).\n",
        "recenzja(czytelnik2, 'Dziady', 3).\n",
        "\n",
        "% Fakty dotyczące preferencji użytkowników\n",
        "upodobania(czytelnik1, fantastyka).\n",
        "upodobania(czytelnik1, poezja).\n",
        "upodobania(czytelnik2, dramat).\n",
        "\n",
        "\n",
        "% Reguła rekomendacje_ksiazek/3\n",
        "rekomendacje_ksiazek(Czytelnik, Typ, ListaPolecanych) :-\n",
        "    % Sprawdzamy, czy dany typ literatury jest w preferencjach czytelnika\n",
        "    upodobania(Czytelnik, Typ),\n",
        "    % Znajdujemy wszystkie książki spełniające kryteria\n",
        "    findall(\n",
        "        Tytul,\n",
        "        (\n",
        "            literatura(Tytul, _, Typ),       % Książka musi należeć do danego gatunku\n",
        "            recenzja(Czytelnik, Tytul, Oc), % Czytelnik musi ocenić tę książkę\n",
        "            Oc >= 4                         % Ocena musi być co najmniej 4\n",
        "        ),\n",
        "        ListaPolecanych                     % Zebrane książki zapisujemy w liście\n",
        "    ).\n",
        "\n",
        "  ```"
      ],
      "metadata": {
        "id": "7eDe5PRulhTD"
      }
    },
    {
      "cell_type": "markdown",
      "source": [
        "\n",
        "\n",
        "Zadanie 5: System rekomendacji książek\n",
        "\n",
        "Pytania i wyniki:\n",
        "\n",
        "```\n",
        "\n",
        "?- rekomendacje_ksiazek(czytelnik1, fantastyka, Lista).\n",
        "\n",
        "Wynik:\n",
        "\n",
        "Lista = ['Hobbit'].\n",
        "\n",
        "?- rekomendacje_ksiazek(czytelnik1, poezja, Lista).\n",
        "\n",
        "Wynik: Lista = [].\n",
        "\n",
        "\n",
        "?- rekomendacje_ksiazek(czytelnik2, dramat, Lista).\n",
        "\n",
        "Wynik: Lista = ['Romeo i Julia']\n",
        "\n",
        "```\n"
      ],
      "metadata": {
        "id": "fn9FKmyQHhYx"
      }
    },
    {
      "cell_type": "markdown",
      "source": [],
      "metadata": {
        "id": "sNWbWrtbytcG"
      }
    },
    {
      "cell_type": "markdown",
      "source": [],
      "metadata": {
        "id": "31eOVfp7ODP5"
      }
    },
    {
      "cell_type": "markdown",
      "source": [],
      "metadata": {
        "id": "4hV0ac9kGekj"
      }
    },
    {
      "cell_type": "code",
      "source": [
        "\n"
      ],
      "metadata": {
        "id": "VdYay4q66bn7"
      },
      "execution_count": null,
      "outputs": []
    },
    {
      "cell_type": "markdown",
      "source": [],
      "metadata": {
        "id": "Zbc6aE-cytDz"
      }
    },
    {
      "cell_type": "markdown",
      "source": [],
      "metadata": {
        "id": "1PEx3chcvdmC"
      }
    },
    {
      "cell_type": "code",
      "execution_count": null,
      "metadata": {
        "id": "m_Yle-W3vGZk"
      },
      "outputs": [],
      "source": []
    }
  ]
}