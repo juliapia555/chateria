{
  "nbformat": 4,
  "nbformat_minor": 0,
  "metadata": {
    "colab": {
      "provenance": []
    },
    "kernelspec": {
      "name": "python3",
      "display_name": "Python 3"
    },
    "language_info": {
      "name": "python"
    }
  },
  "cells": [
    {
      "cell_type": "code",
      "execution_count": null,
      "metadata": {
        "id": "SHG-GjPQDRFZ"
      },
      "outputs": [],
      "source": []
    },
    {
      "cell_type": "code",
      "source": [],
      "metadata": {
        "id": "CDWIO2GaDYX4"
      },
      "execution_count": null,
      "outputs": []
    },
    {
      "cell_type": "markdown",
      "source": [
        "##  Proste problemy, chatboty\n",
        "\n",
        "\n",
        "1.    Zadania, które w mojej opinii wymagają inteligencji od człowieka to:\n",
        "\n",
        "\n",
        "*   wypełnianie deklaracji PIT,\n",
        "*   streszczanie tekstu,\n",
        "*   klasyfikacja tekstu do kategorii tematycznych,\n",
        "*   \n",
        "\n",
        "\n",
        "\n",
        "\n",
        "\n",
        "2.   Teksty dla początkujących w języku polskim zostały przygotowane w formie bezpłatnych arkuszy do pobrania w formacie PDF, dzięki czemu może je wydrukować lub korzystać z nich offline.\n",
        "\n",
        "\n",
        "*   Ćwicz czytanie i rozumienie w języku polskim, by jak najszybciej go opanować i poznać wiele\n",
        "\n",
        "\n",
        "> Dodaj cytat blokowy\n",
        "\n",
        "\n",
        "\n",
        "\n"
      ],
      "metadata": {
        "id": "Qi6PS43SDY3A"
      }
    }
  ]
}