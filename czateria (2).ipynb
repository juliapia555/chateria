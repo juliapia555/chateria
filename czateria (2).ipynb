{
  "nbformat": 4,
  "nbformat_minor": 0,
  "metadata": {
    "colab": {
      "provenance": []
    },
    "kernelspec": {
      "name": "python3",
      "display_name": "Python 3"
    },
    "language_info": {
      "name": "python"
    }
  },
  "cells": [
    {
      "cell_type": "code",
      "execution_count": null,
      "metadata": {
        "id": "ErGq68f1yfzZ"
      },
      "outputs": [],
      "source": []
    },
    {
      "cell_type": "markdown",
      "source": [
        "Zadanie 1\n",
        "\n",
        "Zadania w mojej opinii wymagające w mojej opinii inteligencji od człowieka:\n",
        "\n",
        "- Wypełnienie deklaracji PIT - wymaga inteligencji od człowieka, gdy czynność ta jest wykonywana po raz pierwszy, gdy przejdzie ona w rutynę np. co roku, wysiłek włożony w wypełnienie PIT zapewne jest mniejszy, sytuacja napewno komplikuje się gdy deklaracja PIT dotyczy osób, które prowadzą działalność gospodarczą, posiadają dochody zagraniczne, czy korzystają z ulg podatkowych, trzeba wykazać się znajomością przepisów prawa podatkowego oraz umiejętnością dostosowania się do indywidualnej sytuacji podatnika, wtedy użycie inteligencji od człowieka jest konieczne.\n",
        "- Streszczanie tekstu - streszczenie tekstu wymaga inteligencji od człowieka, ponieważ nie jest to czynność automatyczna, osoba streszczająca tekst ma za zadanie zrozumieć główną intencję autora, przsłanie tekstu, a także gównych bohaterów i najważniejsze wydarzenia\n",
        "- Układanie rozkładu jazdy transportu miejskiego - jest to zadnie, które w mojej ocenie wymaga inteligencji od człowieka, ponieważ osoba układająca rozkład jazdy musi przewidzieć sytuacje, które mogą być ważne dla pasażerów i kierowców, np warunki pogodowe w określonym miejscu zamieszkania, warunki ruchu w określonych częściach miasta bądź potrzeby róznych osób (dzieci, osoby starsze, osoby pracujące)\n",
        "- Komponowanie muzyki - zadanie to wymaga inteligencji od człowieka, poniewaz jest to zadanie twórcze, bardzo często w skład tej umiejętności wchodzi również talent osoby wykonującej, sztuka, która wzbudza emocje wymaga niezastąpionej kreatywności człowieka.\n",
        "- Kierowanie samochodem - jest to zadnie, które z pierwszego punktu widzenia może wydawać się możliwe poddaniu automatyzacji, sądzę jednak, że szybkość podejmowania decyzji, związana ze zmiennymi warunkami na drodze oraz obecnością innych uczestników ruchu jest dowodem na to, że kierowanie samochodem wymagania inteligencji człowieka.\n",
        "\n",
        "Zadanie 2\n",
        "\n",
        "Problemy, które można uznać za mieszczące się w zakresie sztucznej inteligencji:\n",
        "\n",
        "- Streszczenie tekstu - komputer jest w stanie skrócić tekst i tym samym zachować jego najważniejsze informacje, sztuczna inteligencja niekoniecznie wykona to zadanie kreatywnie jak człowiek, jednak wypełni swoje zadnie streszczając tekst.\n",
        "- Tłumaczenie tekstu - jest to proces, który może podlegać automatyzacji, izstnieje już wiele tłumaczy internetowych (np.Google Translate), które być może nie przetłumaczą tekstu jak wyszkolony tłumacz lecz zapewne zachowają jego sens, gramatykę i przekażą ważne informacje zawarte w tekście.\n",
        "- Klasyfikacja tekstu do kategorii tematycznych - jest to zadanie związane z analizą i rozumieniem tekstu, dlatego nie powinno być szczególnie trudne do wykonania dla sztucznej inteligencji, na podstawie określonych cech tekstu i bazy danych sztuczna inteligencja przypisuje go do okreslonej kategorii, np. sport, zdrowie, moda, polityka.\n",
        "- Odpowiadanie na proste pytania zadawane w języku naturalnym - zadanie to miesci się w obszarze sztucznej inteligencji, ponieważ aktualnie sztuczna inteligencja razi sobie z takimi problemami, np. Chatboty, użytkownik zadaje im pytanie z dowolnej dziedziny i uzyskuje odpowiedź opartą na dostępnych danych dla sztucznej inteligencji, AI formułuje odpowiedź w sposób zrozumiały dla człowieka, przykłady: Siri, Alexa, Google Assistant.\n",
        "- Kierowanie samochodem - jednym z bardziej innowacyjnych osiągnięć sztucznej inteligencji jest zdolność kierowania autonomicznym samochodem, sztuczna inteligencja podejmuje decyzje o poruszaniu się pojazdem za pomocą czujników ruchu, które rozpoznają otoczenie, map, itp, jest to możliwe bez ingerencji kierowcy.\n",
        "\n",
        "Zadanie 3\n",
        "\n",
        "Rodzaje komunikacyjnego zachowania człowieka, które mogą być\n",
        "obecnie skutecznie imitowane przez sztuczne systemy (odpowiednio oprogramowane maszyny):\n",
        "\n",
        "- Odpowiadanie na pytania klientów w telefonicznej infolinii - jeśli chodzi o proste pytania zadawane przez klientów to sztuczna inteligencja bez problemu powinna sobie z nimi poradzić, przy użyciu rozpoznawania mowy i przetwarzania języka naturalnego używając zestawu pytań i odpowiedzi, jeśli chodzi o bardziej skomplikowane pytania, wtedy klienci powinni być przekazywani do wykfalifikowanych pracowników.\n",
        "- Odpowiadanie na pytania klientów w internetowej infolinii - z własnej praktyki wiem, że sztuczna inteligencja wykorzystując automatyzację realizuje proste zapytania klientów, dotyczące produktów, usług, statusu zamówienia itp, korzysta wtedy z zestawu pytań i odpowiedzi.\n",
        "- Rozmowa towarzyska - sztuczna inteligencja może prowadzić proste rozmowy z użytkownikami reagując na ich emocje, opowiadane historie bądź ogólne pytania, są to np. ChatBoty, Asystenci Głosowi, jednak rozmowy te nie przechodzą raczej w głębsze konwersacje.\n",
        "\n",
        "Zadanie 4\n",
        "\n",
        "1. Przeprowadź rozmowę z chatbotem. Spróbuj zdefiniować różnice pomiędzy\n",
        "botem udającym człowieka (przygotowywanym na test Turinga) a botem\n",
        "„asystentem, służącym”.\n",
        "\n",
        "Po przeprowadzeniu rozmowy z botem udającym człowieka (ChatGPT) i botem \"asystentem\" (Google Assistant) widzę różnicę w sposobie odpowiedzi na pytania zadawane botowi. ChatGPT potrafi dostosować się do kontekstu rozmowy, tak, że ma się czasem wrażenie jakby prowadziło się rozmowę z realnym człowiekiem. Natomiast Google Assistant cechują konkretne odpowiedzi i chęć niesienia informacji, wyjaśnień, a także typowe wykonywanie codziennych zadań poleconych przez użytkownika. Podsumowując bota udającego człowieka cechuje naturalność rozmowy, jakakolwiek głębsza interakcja z użytkownikiem, dłuższe rozmowy, a nawet wymiana poglądów. Natomiast bot \"Google Assistant\" jest bardziej praktyczny i skupia się głównie na rozwiązaniu problemów użytkownika.\n",
        "\n",
        "2. Sprawdź dwa boty z obu z tych rodzajów na występowanie zachowań (raport ze spostrzeżeń):\n",
        "\n",
        "a) Opowiadanie żartów - jeśli chodzi o ChatGPT opwiadanie żartów jest dostosowane do tematu rozmowy, jest dosyć naturalne i nawet częste, ma się wrażenie, że AI przyjmuje ludzką postać i chce z nami pożartować. Natomiast bot Google Assistant rzadko opowiada żarty, ponieważ głównie cechuje go pomoc przy konkretnych zadaniach, jeśli żarty są to raczej delikatne, mające na celu rozluźnienie atmosfery.\n",
        "\n",
        "b) Przytaczanie cytatów z twoich wypowiedzi, lub znanych osób - jeśli chodzi o ChatGPT przytacza on cytaty aby nadać jakiś kontekst rozmowie z użytkownikiem, aby zabrzmieć bardziej ludzko i przyjaźnie, natomiast Google Assistant nie używa cytatów zbyt często, pojawiają się one tylko gdy kontekst rozmowy na to pozwoli, mają czasami kontekst motywacyjny np. przy ustalaniu terminu spotkania przez użytkownika.\n",
        "\n",
        "c) Nawiązywanie wypowiedzi do słów kluczowych - ChatGPT reaguje na słowa kluczowe bardzo dobrze, pomagają one zachować płynność rozmowy z użytkownikiem bądź zmienić wątek, który zaleca użytkownik, używając kluczowego słowa. Natomiast Google Assistant ma to do siebie, że słowa kluczowe użyte podczas konwersacji z nim pomagają mu przejść do konkretnego zadania, ustalonego przez użytkownika, używa słów kluczowych jak strzałek, które mają prowadzić do rozwiązania problemu użytkownika.\n",
        "\n",
        "d) Zadawanie dużej liczby pytań - ChatGPT zadaje pytania aby rozmowa z użytkownikiem była jak najbardziej naturalna, czasem wraca do wątków wspomnianych wcześniej i zadaje pytania dotyczące ich, ma to na celu utrzymanie rozmowy z użytkownikiem i usatysfakcjonowanie go z niej. Natomiast pytania  Google Assistant są zadawane zasadniczo po to aby wkonać zadanie użytkownika, są proste, raczej nie nakierowane na dłuższą konwersację, mają za zadanie uzyskanie informacji, aby wykonać zadanie.\n",
        "\n",
        "e) Powracanie do początku wypowiedzi, sekwencyjne powtarzanie - u ChatGPT zdarza się to zjawisko aby rozmowa nie była jednolita, nie brzmiała jak rozmowa z AI, ma się wtedy wrażenie, że występuje wymiana myśli z Chatem. Natomiast Google Assistant rzadko wraca do początku wypowiedzi, robi to jeśli potrzebuje potwierdzić jakąś informację.\n",
        "\n",
        "f) Zadawanie pytań powstających z twoich wypowiedzi - u ChatGPT jest to częste, aby rozmowa wydawała się bardziej ludzka, kontynuowanie jej jest wtedy naturalne, u Google Assistant pytania dotyczą bardziej kolejnych etapów realizacji danego zadania.\n",
        "\n",
        "g) Odpowiadanie wymijająco, ogólnikowo - taki typ odpowiedzi u ChatGPT jest obserwowany gdy pytanie użytkownika jest dosyć abstrakcyjne, wymaga dużej kratywności, u Google Assistant ma to miejsce w przypadku braku wystarczająco wiarygodnych informacji.\n",
        "\n",
        "h) Częsta zmiana tematu rozmowy - jeśli chodzi o ChatGPT ma to miejsce w przypadku gdy dany wątek trwa zbyt długo, wtedy Chat płynnie zaczepia inny temat, natomiast Google Assistant rzadko zmienia temat, ponieważ jest nastawiony na konkretną pomoc użytkownikowi.\n",
        "\n",
        "i) Problemy z utrzymaniem wątków - gdy pytamy ChatGPT o coraz to nowe informacje powoli może mieć problem z przywoływaniem poprzednich wątków, sczegónie gdy rozmowa na jakiś temat staje się coraz głębsza i wymaga kreatywności. Natomiast Google Assistant nie ma takiego problemu z trzymaniem się jednego wątku, jest to konieczne, ponieważ musi pamiętać każdy szczegół konwersacji aby udzielić użytkownikowi wymaganej pomocy.\n",
        "\n",
        "3. Zdenerwuj bota\n",
        "\n",
        "Następuje to zazwyczaj przy proszeniu o coraz więcej informacji bądź pisanie o niecenzuralnych rzeczach.\n",
        "\n",
        "\n",
        "\n",
        "\n",
        "\n",
        "\n",
        "\n"
      ],
      "metadata": {
        "id": "aS76nuxnyuig"
      }
    }
  ]
}